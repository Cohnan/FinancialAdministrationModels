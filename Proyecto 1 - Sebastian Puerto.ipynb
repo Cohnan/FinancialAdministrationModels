{
 "cells": [
  {
   "cell_type": "code",
   "execution_count": 2,
   "metadata": {},
   "outputs": [],
   "source": [
    "import numpy as np\n",
    "import matplotlib.pyplot as plt\n",
    "import csv\n",
    "from tabulate import tabulate\n",
    "np.set_printoptions(precision=6) #Mostrar numeros con maximo seis digitos de precision\n",
    "np.set_printoptions(suppress=True) # Suprimir uso de notacion cientifica para numeros muy pequenos"
   ]
  },
  {
   "cell_type": "code",
   "execution_count": 3,
   "metadata": {},
   "outputs": [],
   "source": [
    "N = 23 # Numero de periodos\n",
    "mYah = 3 # Numero de acciones extraidas de Yahoo\n",
    "mFin = 4 # Numero de acciones extraidas de Finance.com\n",
    "m = mYah + mFin # Numero de acciones\n",
    "\n",
    "precios = np.zeros((m, N+1))\n",
    "retornos = np.zeros((m, N))"
   ]
  },
  {
   "cell_type": "markdown",
   "metadata": {},
   "source": [
    "Extrayendo columnas de los archivos de Yahoo Finance:"
   ]
  },
  {
   "cell_type": "code",
   "execution_count": 4,
   "metadata": {},
   "outputs": [],
   "source": [
    "archivosYahoo = ['csvs/AVH.csv', 'csvs/CIB.csv', 'csvs/EC.csv']"
   ]
  },
  {
   "cell_type": "code",
   "execution_count": 5,
   "metadata": {},
   "outputs": [],
   "source": [
    "for k in range(mYah):\n",
    "    archivo = archivosYahoo[k]\n",
    "    lector = csv.reader(open(archivo))\n",
    "    lector.__next__() #Ignorar primer renglon\n",
    "    \n",
    "    for i in range(N+1):\n",
    "        precios[k, i] = lector.__next__()[5] #Extraer la 5ta columna: precio de cierre ajustado\n",
    "        if (i > 0):\n",
    "            retornos[k, i-1] = (precios[k, i] - precios[k, i-1])/precios[k, i-1]"
   ]
  },
  {
   "cell_type": "markdown",
   "metadata": {},
   "source": [
    "Extrayendo columnas de los archivos de Investing.com"
   ]
  },
  {
   "cell_type": "code",
   "execution_count": 6,
   "metadata": {},
   "outputs": [],
   "source": [
    " archivosFin = ['csvs/ARG-2.csv', 'csvs/CFV-2.csv', 'csvs/FTSE-2.csv', 'csvs/IMI-2.csv']"
   ]
  },
  {
   "cell_type": "code",
   "execution_count": 7,
   "metadata": {},
   "outputs": [],
   "source": [
    "for k in range(mYah, mYah + mFin):\n",
    "    archivo = archivosFin[k - mYah]\n",
    "    lector = csv.reader(open(archivo))\n",
    "    lector.__next__() #Ignorar primer renglon\n",
    "    \n",
    "    for i in range(N, -1, -1):\n",
    "        precios[k, i] = lector.__next__()[1] #Extraer la 1era columna: precio de cierre\n",
    "        if (i < N):\n",
    "            retornos[k, i] = (precios[k, i+1] - precios[k, i])/precios[k, i]"
   ]
  },
  {
   "cell_type": "code",
   "execution_count": 8,
   "metadata": {},
   "outputs": [
    {
     "data": {
      "text/plain": [
       "(7, 23)"
      ]
     },
     "execution_count": 8,
     "metadata": {},
     "output_type": "execute_result"
    }
   ],
   "source": [
    "np.shape(retornos)"
   ]
  },
  {
   "cell_type": "markdown",
   "metadata": {},
   "source": [
    "TODO: Explicar, a la luz de la lectura 1, la naturaleza de esos activos."
   ]
  },
  {
   "cell_type": "markdown",
   "metadata": {},
   "source": [
    "# 3"
   ]
  },
  {
   "cell_type": "markdown",
   "metadata": {},
   "source": [
    "Vector de Rendimientos promedio"
   ]
  },
  {
   "cell_type": "code",
   "execution_count": 9,
   "metadata": {},
   "outputs": [
    {
     "name": "stdout",
     "output_type": "stream",
     "text": [
      "Tamaño de matriz de rentabilidades: (7, 1)\n",
      "Retornos promedio:\n",
      " [[-0.026526]\n",
      " [ 0.018164]\n",
      " [ 0.031721]\n",
      " [-0.003375]\n",
      " [ 0.001484]\n",
      " [ 0.010866]\n",
      " [ 0.005016]]\n"
     ]
    }
   ],
   "source": [
    "retProm = np.mean(retornos, 1, keepdims = True) # Hallar el promedio de la matriz de retornos a lo largo del eje temporal\n",
    "print(\"Tamaño de matriz de rentabilidades:\", np.shape(retProm)) # En efecto el vector retProm tiene tamaño 7x1, donde 7 es el número de activos\n",
    "print(\"Retornos promedio:\\n\", retProm)"
   ]
  },
  {
   "cell_type": "markdown",
   "metadata": {},
   "source": [
    "Matriz de Covarianzas"
   ]
  },
  {
   "cell_type": "code",
   "execution_count": 10,
   "metadata": {},
   "outputs": [
    {
     "name": "stdout",
     "output_type": "stream",
     "text": [
      "Matriz de covarianzas:\n",
      " [[ 0.305998  0.057651  0.161875 -0.027009  0.058587  0.028235  0.054256]\n",
      " [ 0.057651  0.132956  0.126677  0.05594   0.081049  0.068264  0.074749]\n",
      " [ 0.161875  0.126677  0.396993 -0.016269  0.089865  0.105785  0.088195]\n",
      " [-0.027009  0.05594  -0.016269  0.068726  0.026786  0.022185  0.028931]\n",
      " [ 0.058587  0.081049  0.089865  0.026786  0.195841  0.069729  0.070606]\n",
      " [ 0.028235  0.068264  0.105785  0.022185  0.069729  0.053816  0.042587]\n",
      " [ 0.054256  0.074749  0.088195  0.028931  0.070606  0.042587  0.083977]]\n"
     ]
    }
   ],
   "source": [
    "S = np.zeros((m, m)) # Inicializacion en 0's\n",
    "\n",
    "for k in range(m): # Iterar con k sobre activos\n",
    "    for l in range(m): # Iterar con l sobre activos\n",
    "        for i in range(N): # Iterar sobre el tiempo con i\n",
    "            # Para la combinacion de activos k y l se suma la contribución a la covarianza por el tiempo i\n",
    "            S[k, l] += (retornos[k, i] - retProm[k])*(retornos[l, i] - retProm[l]) \n",
    "            \n",
    "print(\"Matriz de covarianzas:\\n\", S)"
   ]
  },
  {
   "cell_type": "markdown",
   "metadata": {},
   "source": [
    "## Matriz de Covarianzas es Definida Positiva"
   ]
  },
  {
   "cell_type": "markdown",
   "metadata": {},
   "source": [
    "### Matriz Cuadrada"
   ]
  },
  {
   "cell_type": "code",
   "execution_count": 11,
   "metadata": {},
   "outputs": [
    {
     "data": {
      "text/plain": [
       "(7, 7)"
      ]
     },
     "execution_count": 11,
     "metadata": {},
     "output_type": "execute_result"
    }
   ],
   "source": [
    "np.shape(S)"
   ]
  },
  {
   "cell_type": "markdown",
   "metadata": {},
   "source": [
    "### Simétrica"
   ]
  },
  {
   "cell_type": "code",
   "execution_count": 12,
   "metadata": {},
   "outputs": [
    {
     "data": {
      "text/plain": [
       "array([[0., 0., 0., 0., 0., 0., 0.],\n",
       "       [0., 0., 0., 0., 0., 0., 0.],\n",
       "       [0., 0., 0., 0., 0., 0., 0.],\n",
       "       [0., 0., 0., 0., 0., 0., 0.],\n",
       "       [0., 0., 0., 0., 0., 0., 0.],\n",
       "       [0., 0., 0., 0., 0., 0., 0.],\n",
       "       [0., 0., 0., 0., 0., 0., 0.]])"
      ]
     },
     "execution_count": 12,
     "metadata": {},
     "output_type": "execute_result"
    }
   ],
   "source": [
    "S - S.transpose() # Debería ser igual a su transpuesta,  y lo es pues su diferencia es 0"
   ]
  },
  {
   "cell_type": "markdown",
   "metadata": {},
   "source": [
    "### Definida Positiva"
   ]
  },
  {
   "cell_type": "markdown",
   "metadata": {},
   "source": [
    "Usamos la caracterización vista en clase: los subdeterminantes en línea son positivos. En particular vemos que el determinante de la matriz es distinto de $0$."
   ]
  },
  {
   "cell_type": "code",
   "execution_count": 13,
   "metadata": {},
   "outputs": [
    {
     "name": "stdout",
     "output_type": "stream",
     "text": [
      "El determinante de la submatriz  de tamaño  (1, 1)  que contiene la entrada 1,1, es decir la matriz\n",
      " [[0.305998]]  es  0.3059979002561973 != 0\n",
      "\n",
      "El determinante de la submatriz  de tamaño  (2, 2)  que contiene la entrada 1,1, es decir la matriz\n",
      " [[0.305998 0.057651]\n",
      " [0.057651 0.132956]]  es  0.037360516087251584 != 0\n",
      "\n",
      "El determinante de la submatriz  de tamaño  (3, 3)  que contiene la entrada 1,1, es decir la matriz\n",
      " [[0.305998 0.057651 0.161875]\n",
      " [0.057651 0.132956 0.126677]\n",
      " [0.161875 0.126677 0.396993]]  es  0.008801954520245776 != 0\n",
      "\n",
      "El determinante de la submatriz  de tamaño  (4, 4)  que contiene la entrada 1,1, es decir la matriz\n",
      " [[ 0.305998  0.057651  0.161875 -0.027009]\n",
      " [ 0.057651  0.132956  0.126677  0.05594 ]\n",
      " [ 0.161875  0.126677  0.396993 -0.016269]\n",
      " [-0.027009  0.05594  -0.016269  0.068726]]  es  0.0002218197081601298 != 0\n",
      "\n",
      "El determinante de la submatriz  de tamaño  (5, 5)  que contiene la entrada 1,1, es decir la matriz\n",
      " [[ 0.305998  0.057651  0.161875 -0.027009  0.058587]\n",
      " [ 0.057651  0.132956  0.126677  0.05594   0.081049]\n",
      " [ 0.161875  0.126677  0.396993 -0.016269  0.089865]\n",
      " [-0.027009  0.05594  -0.016269  0.068726  0.026786]\n",
      " [ 0.058587  0.081049  0.089865  0.026786  0.195841]]  es  3.199067768998021e-05 != 0\n",
      "\n",
      "El determinante de la submatriz  de tamaño  (6, 6)  que contiene la entrada 1,1, es decir la matriz\n",
      " [[ 0.305998  0.057651  0.161875 -0.027009  0.058587  0.028235]\n",
      " [ 0.057651  0.132956  0.126677  0.05594   0.081049  0.068264]\n",
      " [ 0.161875  0.126677  0.396993 -0.016269  0.089865  0.105785]\n",
      " [-0.027009  0.05594  -0.016269  0.068726  0.026786  0.022185]\n",
      " [ 0.058587  0.081049  0.089865  0.026786  0.195841  0.069729]\n",
      " [ 0.028235  0.068264  0.105785  0.022185  0.069729  0.053816]]  es  1.930843829613684e-07 != 0\n",
      "\n"
     ]
    }
   ],
   "source": [
    "for k in range(1,m):\n",
    "    submatPpal = S[:k, :k]\n",
    "    detp = np.linalg.det(submatPpal)\n",
    "    print(\"El determinante de la submatriz  de tamaño \", np.shape(submatPpal), \" que contiene la entrada 1,1, es decir la matriz\\n\", submatPpal, \" es \", detp, \"!= 0\\n\")"
   ]
  },
  {
   "cell_type": "code",
   "execution_count": 14,
   "metadata": {},
   "outputs": [
    {
     "name": "stdout",
     "output_type": "stream",
     "text": [
      "[[  5.637903  -4.836339  -3.056531   2.978238  -2.656259  12.325697\n",
      "   -1.171077]\n",
      " [ -4.836339  42.247891  -1.046555 -21.688876   4.678311 -37.582743\n",
      "  -10.783565]\n",
      " [ -3.056531  -1.046555  12.63798   12.130755   6.97623  -33.070479\n",
      "   -3.639956]\n",
      " [  2.978238 -21.688876  12.130755  42.146813   4.804418 -17.507591\n",
      "   -5.039423]\n",
      " [ -2.656259   4.678311   6.97623    4.804418  14.50841  -33.965781\n",
      "   -6.403059]\n",
      " [ 12.325697 -37.582743 -33.070479 -17.507591 -33.965781 168.69121\n",
      "    9.261645]\n",
      " [ -1.171077 -10.783565  -3.639956  -5.039423  -6.403059   9.261645\n",
      "   28.508659]]\n"
     ]
    }
   ],
   "source": [
    "Sinv = np.linalg.inv(S)\n",
    "print(Sinv)"
   ]
  },
  {
   "cell_type": "code",
   "execution_count": 15,
   "metadata": {},
   "outputs": [
    {
     "data": {
      "text/plain": [
       "array([[ 1.,  0., -0.,  0., -0.,  0.,  0.],\n",
       "       [-0.,  1., -0., -0.,  0.,  0.,  0.],\n",
       "       [-0., -0.,  1.,  0., -0., -0.,  0.],\n",
       "       [-0., -0.,  0.,  1.,  0., -0.,  0.],\n",
       "       [-0.,  0., -0.,  0.,  1., -0.,  0.],\n",
       "       [-0.,  0., -0., -0., -0.,  1., -0.],\n",
       "       [-0.,  0., -0., -0.,  0., -0.,  1.]])"
      ]
     },
     "execution_count": 15,
     "metadata": {},
     "output_type": "execute_result"
    }
   ],
   "source": [
    "S.dot(Sinv)"
   ]
  },
  {
   "cell_type": "markdown",
   "metadata": {},
   "source": [
    "# 4"
   ]
  },
  {
   "cell_type": "markdown",
   "metadata": {},
   "source": [
    "Parámetros de la teoría"
   ]
  },
  {
   "cell_type": "code",
   "execution_count": 16,
   "metadata": {},
   "outputs": [
    {
     "name": "stdout",
     "output_type": "stream",
     "text": [
      "A = 55.79298136178339 \t B = -0.3429301179306104 \t C = 0.01575628695843826 , entonces D = 0.7614891588191541\n"
     ]
    }
   ],
   "source": [
    "u = np.ones((m, 1))\n",
    "\n",
    "A = u.transpose().dot(Sinv.dot(u))[0,0]\n",
    "B = u.transpose().dot(Sinv.dot(retProm))[0,0]\n",
    "C = retProm.transpose().dot(Sinv.dot(retProm))[0,0]\n",
    "D = A*C - B**2\n",
    "\n",
    "print(\"A =\", A, \"\\t B =\", B, \"\\t C =\", C, \", entonces D =\", D)"
   ]
  },
  {
   "cell_type": "markdown",
   "metadata": {},
   "source": [
    "# 5"
   ]
  },
  {
   "cell_type": "markdown",
   "metadata": {},
   "source": [
    "Ecuación general de los portafolios óptimos dados los parámetros de la teoría $A, B, C$ y el parámetro $\\mu$: $x*(\\mu) = (\\frac{C - B\\mu}{D}) S^{-1} \\hat u + (\\frac{A \\mu - B}{D})S^{-1}\\bar r$, en nuestro caso, como:"
   ]
  },
  {
   "cell_type": "code",
   "execution_count": 49,
   "metadata": {},
   "outputs": [
    {
     "name": "stdout",
     "output_type": "stream",
     "text": [
      "  Mu    % Activo 1    % Activo 2    % Activo 3    % Activo 4    % Activo 5    % Activo 6    % Activo 7\n",
      "----  ------------  ------------  ------------  ------------  ------------  ------------  ------------\n",
      "0        0.0916008     -0.38406      -0.162978      0.171202     -0.258113       1.33337      0.208974\n",
      "0.05    -0.507786       0.721711     -0.166545     -1.03494      -0.599754       2.24332      0.343998\n",
      "0.1     -1.10717        1.82748      -0.170113     -2.24109      -0.941394       3.15326      0.479022\n",
      "0.15    -1.70656        2.93325      -0.173681     -3.44723      -1.28303        4.06321      0.614046\n",
      "0.2     -2.30594        4.03902      -0.177248     -4.65338      -1.62467        4.97315      0.74907\n",
      "0.25    -2.90533        5.14479      -0.180816     -5.85952      -1.96632        5.8831       0.884094\n",
      "0.3     -3.50472        6.25056      -0.184383     -7.06567      -2.30796        6.79305      1.01912\n",
      "0.35    -4.1041         7.35633      -0.187951     -8.27181      -2.6496         7.70299      1.15414\n",
      "0.4     -4.70349        8.4621       -0.191518     -9.47796      -2.99124        8.61294      1.28917\n"
     ]
    }
   ],
   "source": [
    "def xOptMu(mu):\n",
    "    return ((C - B*mu)/D) * Sinv.dot(u) + ((A*mu - B)/D) * Sinv.dot(retProm)\n",
    "\n",
    "rentDeseadas = np.linspace(0., 0.4, 9).reshape((9,1,1))\n",
    "\n",
    "portOptMu = np.zeros( (len(rentDeseadas), m, 1) )\n",
    "\n",
    "for i in range(len(rentDeseadas)):\n",
    "    portOptMu[i] = xOptMu(rentDeseadas[i])\n",
    "    \n",
    "print(tabulate(np.concatenate((rentDeseadas,portOptMu), axis = 1), [\"Mu\"] +[\"% Activo \"+str(i) for i in range(1, 8)]))"
   ]
  },
  {
   "cell_type": "code",
   "execution_count": null,
   "metadata": {},
   "outputs": [],
   "source": []
  }
 ],
 "metadata": {
  "kernelspec": {
   "display_name": "Python 3",
   "language": "python",
   "name": "python3"
  },
  "language_info": {
   "codemirror_mode": {
    "name": "ipython",
    "version": 3
   },
   "file_extension": ".py",
   "mimetype": "text/x-python",
   "name": "python",
   "nbconvert_exporter": "python",
   "pygments_lexer": "ipython3",
   "version": "3.6.8"
  }
 },
 "nbformat": 4,
 "nbformat_minor": 2
}
