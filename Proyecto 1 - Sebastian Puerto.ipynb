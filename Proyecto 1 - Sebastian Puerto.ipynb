{
 "cells": [
  {
   "cell_type": "code",
   "execution_count": 1,
   "metadata": {},
   "outputs": [],
   "source": [
    "import numpy as np\n",
    "import matplotlib.pyplot as plt\n",
    "import csv"
   ]
  },
  {
   "cell_type": "code",
   "execution_count": 17,
   "metadata": {},
   "outputs": [],
   "source": [
    "N = 23 # Numero de periodos\n",
    "mYah = 3 # Numero de acciones extraidas de Yahoo\n",
    "mFin = 4 # Numero de acciones extraidas de Finance.com\n",
    "m = mYah + mFin # Numero de acciones\n",
    "\n",
    "precios = np.zeros((m, N+1))\n",
    "retornos = np.zeros((m, N))"
   ]
  },
  {
   "cell_type": "markdown",
   "metadata": {},
   "source": [
    "Extrayendo columnas de los archivos de Yahoo Finance:"
   ]
  },
  {
   "cell_type": "code",
   "execution_count": 4,
   "metadata": {},
   "outputs": [],
   "source": [
    "archivosYahoo = ['csvs/AVH.csv', 'csvs/CIB.csv', 'csvs/EC.csv']"
   ]
  },
  {
   "cell_type": "code",
   "execution_count": 18,
   "metadata": {},
   "outputs": [],
   "source": [
    "for k in range(mYah):\n",
    "    archivo = archivosYahoo[k]\n",
    "    lector = csv.reader(open(archivo))\n",
    "    lector.__next__() #Ignorar primer renglon\n",
    "    \n",
    "    for i in range(N+1):\n",
    "        precios[k, i] = lector.__next__()[5] #Extraer la 5ta columna: precio de cierre ajustado\n",
    "        if (i > 0):\n",
    "            retornos[k, i-1] = (precios[k, i] - precios[k, i-1])/precios[k, i-1]"
   ]
  },
  {
   "cell_type": "markdown",
   "metadata": {},
   "source": [
    "Extrayendo columnas de los archivos de Investing.com"
   ]
  },
  {
   "cell_type": "code",
   "execution_count": 19,
   "metadata": {},
   "outputs": [],
   "source": [
    " archivosFin = ['csvs/ARG-2.csv', 'csvs/CFV-2.csv', 'csvs/FTSE-2.csv', 'csvs/IMI-2.csv']"
   ]
  },
  {
   "cell_type": "code",
   "execution_count": 20,
   "metadata": {},
   "outputs": [],
   "source": [
    "for k in range(mYah, mYah + mFin):\n",
    "    archivo = archivosFin[k - mYah]\n",
    "    lector = csv.reader(open(archivo))\n",
    "    lector.__next__() #Ignorar primer renglon\n",
    "    \n",
    "    for i in range(N, -1, -1):\n",
    "        precios[k, i] = lector.__next__()[1] #Extraer la 1era columna: precio de cierre\n",
    "        if (i < N):\n",
    "            retornos[k, i] = (precios[k, i+1] - precios[k, i])/precios[k, i]"
   ]
  },
  {
   "cell_type": "code",
   "execution_count": 24,
   "metadata": {},
   "outputs": [
    {
     "data": {
      "text/plain": [
       "(7, 23)"
      ]
     },
     "execution_count": 24,
     "metadata": {},
     "output_type": "execute_result"
    }
   ],
   "source": [
    "np.shape(retornos)"
   ]
  },
  {
   "cell_type": "markdown",
   "metadata": {},
   "source": [
    "TODO: Explicar, a la luz de la lectura 1, la naturaleza de esos activos."
   ]
  },
  {
   "cell_type": "markdown",
   "metadata": {},
   "source": [
    "# 3"
   ]
  },
  {
   "cell_type": "markdown",
   "metadata": {},
   "source": [
    "Vector de Rendimientos promedio"
   ]
  },
  {
   "cell_type": "code",
   "execution_count": 45,
   "metadata": {},
   "outputs": [
    {
     "name": "stdout",
     "output_type": "stream",
     "text": [
      "Retornos promedio:\n",
      " [[-0.02652642]\n",
      " [ 0.01816381]\n",
      " [ 0.03172053]\n",
      " [-0.00337518]\n",
      " [ 0.00148386]\n",
      " [ 0.01086576]\n",
      " [ 0.0050164 ]]\n"
     ]
    }
   ],
   "source": [
    "retProm = np.mean(retornos, 1, keepdims = True) # Hallar el promedio de la matriz de retornos a lo largo del eje temporal\n",
    "np.shape(retProm) # En efecto el vector retProm tiene tamaño 7x1, donde 7 es el número de activos\n",
    "print(\"Retornos promedio:\\n\", retProm)"
   ]
  },
  {
   "cell_type": "markdown",
   "metadata": {},
   "source": [
    "Matriz de Covarianzas"
   ]
  },
  {
   "cell_type": "code",
   "execution_count": 55,
   "metadata": {},
   "outputs": [
    {
     "name": "stdout",
     "output_type": "stream",
     "text": [
      "Matriz de covarianzas:\n",
      " [[ 0.3059979   0.05765147  0.1618752  -0.02700894  0.0585867   0.02823461\n",
      "   0.05425649]\n",
      " [ 0.05765147  0.13295584  0.12667706  0.05594031  0.08104902  0.06826378\n",
      "   0.07474869]\n",
      " [ 0.1618752   0.12667706  0.39699286 -0.01626918  0.08986482  0.10578535\n",
      "   0.08819466]\n",
      " [-0.02700894  0.05594031 -0.01626918  0.06872598  0.02678615  0.02218467\n",
      "   0.02893063]\n",
      " [ 0.0585867   0.08104902  0.08986482  0.02678615  0.19584113  0.06972935\n",
      "   0.07060562]\n",
      " [ 0.02823461  0.06826378  0.10578535  0.02218467  0.06972935  0.053816\n",
      "   0.04258707]\n",
      " [ 0.05425649  0.07474869  0.08819466  0.02893063  0.07060562  0.04258707\n",
      "   0.08397729]]\n"
     ]
    }
   ],
   "source": [
    "S = np.zeros((m, m)) # Inicializacion en 0's\n",
    "\n",
    "for k in range(m):\n",
    "    for l in range(m):\n",
    "        for i in range(N):\n",
    "            S[k, l] += (retornos[k, i] - retProm[k])*(retornos[l, i] - retProm[l]) # Para la combinacion de activos k y l\n",
    "            \n",
    "print(\"Matriz de covarianzas:\\n\", S)"
   ]
  }
 ],
 "metadata": {
  "kernelspec": {
   "display_name": "Python 3",
   "language": "python",
   "name": "python3"
  },
  "language_info": {
   "codemirror_mode": {
    "name": "ipython",
    "version": 3
   },
   "file_extension": ".py",
   "mimetype": "text/x-python",
   "name": "python",
   "nbconvert_exporter": "python",
   "pygments_lexer": "ipython3",
   "version": "3.6.8"
  }
 },
 "nbformat": 4,
 "nbformat_minor": 2
}
