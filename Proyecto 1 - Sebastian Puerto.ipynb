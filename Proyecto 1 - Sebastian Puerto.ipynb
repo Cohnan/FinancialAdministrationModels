{
 "cells": [
  {
   "cell_type": "code",
   "execution_count": 1,
   "metadata": {},
   "outputs": [],
   "source": [
    "import numpy as np\n",
    "import matplotlib.pyplot as plt\n",
    "import csv"
   ]
  },
  {
   "cell_type": "code",
   "execution_count": 3,
   "metadata": {},
   "outputs": [],
   "source": [
    "N = 23 # Numero de periodos\n",
    "mYah = 3 # Numero de acciones extraidas de Yahoo\n",
    "mFin = 4 # Numero de acciones extraidas de Finance.com\n",
    "m = mYah + mFin # Numero de acciones\n",
    "\n",
    "precios = np.zeros((N+1, m))\n",
    "retornos = np.zeros((N, m))"
   ]
  },
  {
   "cell_type": "markdown",
   "metadata": {},
   "source": [
    "Extrayendo columnas de los archivos de Yahoo Finance:"
   ]
  },
  {
   "cell_type": "code",
   "execution_count": 4,
   "metadata": {},
   "outputs": [],
   "source": [
    "archivosYahoo = ['csvs/AVH.csv', 'csvs/CIB.csv', 'csvs/EC.csv']"
   ]
  },
  {
   "cell_type": "code",
   "execution_count": 5,
   "metadata": {},
   "outputs": [],
   "source": [
    "for k in range(mYah):\n",
    "    archivo = archivosYahoo[k]\n",
    "    lector = csv.reader(open(archivo))\n",
    "    lector.__next__() #Ignorar primer renglon\n",
    "    \n",
    "    for i in range(N+1):\n",
    "        precios[i, k] = lector.__next__()[5] #Extraer la 5ta columna: precio de cierre ajustado\n",
    "        if (i > 0):\n",
    "            retornos[i-1, k] = (precios[i, k] - precios[i-1, k])/precios[i-1, k]"
   ]
  },
  {
   "cell_type": "markdown",
   "metadata": {},
   "source": [
    "Extrayendo columnas de los archivos de Investing.com"
   ]
  },
  {
   "cell_type": "code",
   "execution_count": 13,
   "metadata": {},
   "outputs": [],
   "source": [
    " archivosFin = ['csvs/ARG-2.csv', 'csvs/CFV-2.csv', 'csvs/FTSE-2.csv', 'csvs/IMI-2.csv']"
   ]
  },
  {
   "cell_type": "code",
   "execution_count": 15,
   "metadata": {},
   "outputs": [],
   "source": [
    "for k in range(mYah, mYah + mFin):\n",
    "    archivo = archivosFin[k - mYah]\n",
    "    lector = csv.reader(open(archivo))\n",
    "    lector.__next__() #Ignorar primer renglon\n",
    "    \n",
    "    for i in range(N, -1, -1):\n",
    "        precios[i, k] = lector.__next__()[1] #Extraer la 1era columna: precio de cierre\n",
    "        if (i < N):\n",
    "            retornos[i, k] = (precios[i+1, k] - precios[i, k])/precios[i, k]"
   ]
  },
  {
   "cell_type": "code",
   "execution_count": 16,
   "metadata": {},
   "outputs": [
    {
     "name": "stdout",
     "output_type": "stream",
     "text": [
      "[[ 0.1045577   0.0227815   0.04598737  0.03225806  0.01818188  0.00953783\n",
      "   0.00244798]\n",
      " [ 0.04285705  0.02719505  0.26120685  0.01953125  0.0027462   0.06342655\n",
      "   0.01098901]\n",
      " [ 0.01868006  0.1677591   0.28981542 -0.01149425 -0.07945268  0.05065252\n",
      "   0.07971014]\n",
      " [ 0.14303185 -0.08204569 -0.07207213 -0.06395349 -0.09821422 -0.06187936\n",
      "  -0.06152125]\n",
      " [-0.0941177  -0.00379325  0.10394077 -0.02587992 -0.01815318 -0.01995787\n",
      "  -0.01787843]\n",
      " [-0.0354192   0.1441194   0.14226573  0.06269926  0.01512874  0.10005898\n",
      "   0.02912621]\n",
      " [-0.07711124 -0.02685693  0.00224612 -0.029       0.04056195 -0.00841931\n",
      "  -0.02712264]\n",
      " [-0.1432361   0.03018537 -0.0437413   0.02265705  0.00954689  0.02047929\n",
      "  -0.01818182]\n",
      " [ 0.00928784 -0.03174548  0.03990269 -0.02316213 -0.0618411  -0.03754528\n",
      "   0.00246914]\n",
      " [-0.14465983 -0.05554349  0.05755737 -0.01546392  0.01767677  0.01847702\n",
      "  -0.02339901]\n",
      " [ 0.0405855  -0.03782289  0.19159285 -0.14659686 -0.09015715  0.00861483\n",
      "  -0.08070618]\n",
      " [-0.09852444 -0.10748464 -0.13627921 -0.0797546  -0.10454545 -0.06791338\n",
      "  -0.04663923]\n",
      " [ 0.00798405  0.0831078  -0.17411872  0.07866667 -0.05076142 -0.02360744\n",
      "  -0.04172662]\n",
      " [-0.19603966 -0.04773814 -0.17334714  0.04449938 -0.12299465 -0.05095807\n",
      "  -0.06906907]\n",
      " [ 0.14285714  0.18073555  0.1870277   0.09822485  0.15853659  0.08566643\n",
      "   0.13709677]\n",
      " [ 0.04094833  0.08385656  0.07373999 -0.03448276  0.28947368  0.06489537\n",
      "   0.03546099]\n",
      " [-0.15113874  0.05626811  0.05928863  0.01004464  0.08163265  0.08036034\n",
      "  -0.00547945]\n",
      " [-0.09024395 -0.00665885 -0.13759333  0.01657459 -0.05056604 -0.02645929\n",
      "  -0.00137741]\n",
      " [-0.0214475  -0.06796062 -0.070499   -0.05869565 -0.07233704 -0.05057357\n",
      "  -0.02758621]\n",
      " [ 0.07556469  0.08665101  0.11592447 -0.00115473  0.06683805  0.05531657\n",
      "   0.18297872]\n",
      " [ 0.02835025 -0.01632077 -0.01968294 -0.02774566  0.08514056  0.01182308\n",
      "   0.04316547]\n",
      " [-0.32832079 -0.00160389 -0.11935304  0.07015458 -0.02664693 -0.00442387\n",
      "   0.01034483]\n",
      " [ 0.11544701  0.02068279  0.10576308 -0.01555556  0.0243346   0.03234101\n",
      "   0.00227531]]\n"
     ]
    }
   ],
   "source": [
    "print(retornos)"
   ]
  }
 ],
 "metadata": {
  "kernelspec": {
   "display_name": "Python 3",
   "language": "python",
   "name": "python3"
  },
  "language_info": {
   "codemirror_mode": {
    "name": "ipython",
    "version": 3
   },
   "file_extension": ".py",
   "mimetype": "text/x-python",
   "name": "python",
   "nbconvert_exporter": "python",
   "pygments_lexer": "ipython3",
   "version": "3.6.8"
  }
 },
 "nbformat": 4,
 "nbformat_minor": 2
}
