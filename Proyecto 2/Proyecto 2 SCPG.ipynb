{
 "cells": [
  {
   "cell_type": "markdown",
   "metadata": {},
   "source": [
    "# Proyecto 1, Modelos de Gestión Financiera\n",
    "## Sebastian Puerto\n",
    "## 25 de septiembre de 2019"
   ]
  },
  {
   "cell_type": "code",
   "execution_count": 1,
   "metadata": {},
   "outputs": [],
   "source": [
    "import numpy as np\n",
    "import scipy as sp\n",
    "import matplotlib.pyplot as plt\n",
    "import time\n",
    "%matplotlib inline"
   ]
  },
  {
   "cell_type": "code",
   "execution_count": 10,
   "metadata": {},
   "outputs": [],
   "source": [
    "def grafico_valor_activo(S0 = 100, mu = 0.02, sig = 0.07, dt = 0.001, Dt = 1, N = 10, graficar = True):\n",
    "    tf = N*Dt + dt\n",
    "    ts = np.arange(0, tf, dt)\n",
    "    dws = np.array([np.random.normal(0, np.sqrt(dt)) for t in ts])\n",
    "    \n",
    "    Ss = np.zeros(len(ts))\n",
    "    Ss[0] = S0\n",
    "    \n",
    "    for i in range(1, len(ts)):\n",
    "        S = Ss[i-1]\n",
    "        ti = ts[i]\n",
    "        dS = S*(mu*dt + sig*dws[i-1])\n",
    "        Ss[i] = S + dS \n",
    "        \n",
    "    plotis = np.arange(0, len(ts), N)\n",
    "    plotTs = np.zeros(len(plotis))\n",
    "    plotSs = np.zeros(len(plotis))\n",
    "    \n",
    "    for j in range(len(plotis)):\n",
    "        i = plotis[j]\n",
    "        plotTs[j] = ts[i]\n",
    "        plotSs[j] = Ss[i]\n",
    "    \n",
    "    if graficar:\n",
    "        figura = plt.figure()\n",
    "        plt.plot(plotTs, plotSs)\n",
    "        plt.show()\n",
    "    \n",
    "    return ts, Ss"
   ]
  },
  {
   "cell_type": "code",
   "execution_count": 8,
   "metadata": {},
   "outputs": [
    {
     "name": "stdout",
     "output_type": "stream",
     "text": [
      "Para dt = 0.0001 , e**( 0.9 144.0 ) calculado:\t 1.9143978647135023e+56\n",
      "Para dt = 0.0001 , e**( 0.9 144.0 ) real:\t 1.9255945791484567e+56\n",
      "Asi que, para dt = 0.0001  hubo un error de: 0.5814679037944637 %\n",
      "Tiempo:  4.22213077545166 \n",
      "\n",
      "Para dt = 0.0005 , e**( 0.9 144.0 ) calculado:\t 1.8702713688723112e+56\n",
      "Para dt = 0.0005 , e**( 0.9 144.0 ) real:\t 1.9255945791484567e+56\n",
      "Asi que, para dt = 0.0005  hubo un error de: 2.8730455971999413 %\n",
      "Tiempo:  0.8480901718139648 \n",
      "\n",
      "Para dt = 0.001 , e**( 0.9 144.0 ) calculado:\t 1.816569369920516e+56\n",
      "Para dt = 0.001 , e**( 0.9 144.0 ) real:\t 1.9255945791484567e+56\n",
      "Asi que, para dt = 0.001  hubo un error de: 5.661898429115553 %\n",
      "Tiempo:  0.41493654251098633 \n",
      "\n",
      "Para dt = 0.01 , e**( 0.9 144.0 ) calculado:\t 1.0784345960075816e+56\n",
      "Para dt = 0.01 , e**( 0.9 144.0 ) real:\t 1.9255945791484567e+56\n",
      "Asi que, para dt = 0.01  hubo un error de: 43.99472206218555 %\n",
      "Tiempo:  0.041144371032714844 \n",
      "\n"
     ]
    }
   ],
   "source": [
    "def est_precis(ddt, mmu = 0.9, Ene = 48):\n",
    "    start = time.time()\n",
    "    ts, Ss = grafico_valor_activo(S0 = 1, mu = mmu, sig = 0, dt = ddt, Dt = 3, N = Ene, graficar = False)\n",
    "    t = ts[-1]\n",
    "    exCalc = Ss[-1]\n",
    "    exReal = np.exp(mmu*t)\n",
    "    error = np.abs(exCalc/exReal - 1)\n",
    "    print(\"Para dt =\", ddt, \", e**(\", mmu, t, \") calculado:\\t\", exCalc)\n",
    "    print(\"Para dt =\", ddt, \", e**(\", mmu, t, \") real:\\t\", exReal)\n",
    "    print(\"Asi que, para dt =\", ddt, \" hubo un error de:\", error*100, \"%\")\n",
    "    print(\"Tiempo: \", time.time() - start, \"\\n\")\n",
    "est_precis(ddt = 0.0001)\n",
    "est_precis(ddt = 0.0005)\n",
    "est_precis(ddt = 0.001)\n",
    "est_precis(ddt = 0.01)"
   ]
  },
  {
   "cell_type": "code",
   "execution_count": 11,
   "metadata": {},
   "outputs": [
    {
     "data": {
      "image/png": "[encoded data removed]",
      "text/plain": [
       "<Figure size 432x288 with 1 Axes>"
      ]
     },
     "metadata": {
      "needs_background": "light"
     },
     "output_type": "display_data"
    }
   ],
   "source": [
    "#_= grafico_valor_activo(mu = 0.001, sig = 0.5, Dt = 30, N = 120)\n",
    "#_= grafico_valor_activo(sig = 0.5, Dt = 1, N = 120*30)\n",
    "#_= grafico_valor_activo(sig = 0.5, Dt = 30, N = 120)\n",
    "#_= grafico_valor_activo(sig = 0.5, Dt = 1, N = 120*30)\n",
    "\n",
    "# Mes\n",
    "_= grafico_valor_activo(mu = 0.031, sig = np.sqrt(0.008), Dt = 1, N = 24)"
   ]
  },
  {
   "cell_type": "code",
   "execution_count": null,
   "metadata": {},
   "outputs": [],
   "source": []
  }
 ],
 "metadata": {
  "kernelspec": {
   "display_name": "Python 3",
   "language": "python",
   "name": "python3"
  },
  "language_info": {
   "codemirror_mode": {
    "name": "ipython",
    "version": 3
   },
   "file_extension": ".py",
   "mimetype": "text/x-python",
   "name": "python",
   "nbconvert_exporter": "python",
   "pygments_lexer": "ipython3",
   "version": "3.7.3"
  }
 },
 "nbformat": 4,
 "nbformat_minor": 4
}
