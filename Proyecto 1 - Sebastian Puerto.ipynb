{
 "cells": [
  {
   "cell_type": "code",
   "execution_count": 1,
   "metadata": {},
   "outputs": [],
   "source": [
    "import numpy as np\n",
    "import matplotlib.pyplot as plt\n",
    "import csv\n",
    "from tabulate import tabulate\n",
    "np.set_printoptions(precision=6) #Mostrar numeros con maximo seis digitos de precision\n",
    "np.set_printoptions(suppress=True) # Suprimir uso de notacion cientifica para numeros muy pequenos"
   ]
  },
  {
   "cell_type": "code",
   "execution_count": 2,
   "metadata": {},
   "outputs": [],
   "source": [
    "N = 23 # Numero de periodos\n",
    "mYah = 0 # Numero de acciones extraidas de Yahoo\n",
    "mFin = 6 # Numero de acciones extraidas de Finance.com\n",
    "m = mYah + mFin # Numero de acciones\n",
    "\n",
    "precios = np.zeros((m, N+1))\n",
    "retornos = np.zeros((m, N))"
   ]
  },
  {
   "cell_type": "markdown",
   "metadata": {},
   "source": [
    "Extrayendo columnas de los archivos de Yahoo Finance:"
   ]
  },
  {
   "cell_type": "code",
   "execution_count": 3,
   "metadata": {},
   "outputs": [],
   "source": [
    "archivosYahoo = ['csvs/EC.csv','csvs/CIB.csv']"
   ]
  },
  {
   "cell_type": "code",
   "execution_count": 4,
   "metadata": {},
   "outputs": [],
   "source": [
    "for k in range(mYah):\n",
    "    archivo = archivosYahoo[k]\n",
    "    lector = csv.reader(open(archivo))\n",
    "    lector.__next__() #Ignorar primer renglon\n",
    "    \n",
    "    for i in range(N+1):\n",
    "        precios[k, i] = lector.__next__()[5] #Extraer la 5ta columna: precio de cierre ajustado\n",
    "        if (i > 0):\n",
    "            retornos[k, i-1] = (precios[k, i] - precios[k, i-1])/precios[k, i-1]"
   ]
  },
  {
   "cell_type": "markdown",
   "metadata": {},
   "source": [
    "Extrayendo columnas de los archivos de Investing.com"
   ]
  },
  {
   "cell_type": "code",
   "execution_count": 5,
   "metadata": {},
   "outputs": [],
   "source": [
    " archivosFin = [ 'csvs/CFV-2.csv', 'csvs/FTSE-2.csv', 'csvs/IMI-2.csv', 'csvs/BIC_p1-2.csv', 'csvs/MAS-2.csv', 'csvs/PMG-2.csv']"
   ]
  },
  {
   "cell_type": "code",
   "execution_count": 6,
   "metadata": {},
   "outputs": [],
   "source": [
    "for k in range(mYah, mYah + mFin):\n",
    "    archivo = archivosFin[k - mYah]\n",
    "    lector = csv.reader(open(archivo))\n",
    "    lector.__next__() #Ignorar primer renglon\n",
    "    \n",
    "    for i in range(N, -1, -1):\n",
    "        precios[k, i] = lector.__next__()[1] #Extraer la 1era columna: precio de cierre\n",
    "        if (i < N):\n",
    "            retornos[k, i] = (precios[k, i+1] - precios[k, i])/precios[k, i]"
   ]
  },
  {
   "cell_type": "code",
   "execution_count": 7,
   "metadata": {},
   "outputs": [
    {
     "data": {
      "text/plain": [
       "(6, 23)"
      ]
     },
     "execution_count": 7,
     "metadata": {},
     "output_type": "execute_result"
    }
   ],
   "source": [
    "np.shape(retornos)"
   ]
  },
  {
   "cell_type": "markdown",
   "metadata": {},
   "source": [
    "TODO: Explicar, a la luz de la lectura 1, la naturaleza de esos activos."
   ]
  },
  {
   "cell_type": "markdown",
   "metadata": {},
   "source": [
    "# 3"
   ]
  },
  {
   "cell_type": "markdown",
   "metadata": {},
   "source": [
    "Vector de Rendimientos promedio"
   ]
  },
  {
   "cell_type": "code",
   "execution_count": 8,
   "metadata": {},
   "outputs": [
    {
     "name": "stdout",
     "output_type": "stream",
     "text": [
      "Tamaño de matriz de rentabilidades: (6, 1)\n",
      "Retornos promedio:\n",
      " [[0.001484]\n",
      " [0.010866]\n",
      " [0.005016]\n",
      " [0.019599]\n",
      " [0.018384]\n",
      " [0.003606]]\n"
     ]
    }
   ],
   "source": [
    "retProm = np.mean(retornos, 1, keepdims = True) # Hallar el promedio de la matriz de retornos a lo largo del eje temporal\n",
    "\n",
    "print(\"Tamaño de matriz de rentabilidades:\", np.shape(retProm)) # En efecto el vector retProm tiene tamaño 7x1, donde 7 es el número de activos\n",
    "print(\"Retornos promedio:\\n\", retProm)"
   ]
  },
  {
   "cell_type": "markdown",
   "metadata": {},
   "source": [
    "Matriz de Covarianzas"
   ]
  },
  {
   "cell_type": "code",
   "execution_count": 9,
   "metadata": {},
   "outputs": [
    {
     "name": "stdout",
     "output_type": "stream",
     "text": [
      "Matriz de covarianzas:\n",
      " [[ 0.195841  0.069729  0.070606  0.066326  0.016321 -0.037663]\n",
      " [ 0.069729  0.053816  0.042587  0.049801  0.0114   -0.005918]\n",
      " [ 0.070606  0.042587  0.083977  0.040482  0.027572 -0.010649]\n",
      " [ 0.066326  0.049801  0.040482  0.071042  0.008762 -0.019772]\n",
      " [ 0.016321  0.0114    0.027572  0.008762  0.139274 -0.01058 ]\n",
      " [-0.037663 -0.005918 -0.010649 -0.019772 -0.01058   0.17264 ]]\n"
     ]
    }
   ],
   "source": [
    "S = np.zeros((m, m)) # Inicializacion en 0's\n",
    "\n",
    "for k in range(m): # Iterar con k sobre activos\n",
    "    for l in range(m): # Iterar con l sobre activos\n",
    "        for i in range(N): # Iterar sobre el tiempo con i\n",
    "            # Para la combinacion de activos k y l se suma la contribución a la covarianza por el tiempo i\n",
    "            S[k, l] += (retornos[k, i] - retProm[k])*(retornos[l, i] - retProm[l]) \n",
    "            \n",
    "print(\"Matriz de covarianzas:\\n\", S)"
   ]
  },
  {
   "cell_type": "code",
   "execution_count": 26,
   "metadata": {},
   "outputs": [
    {
     "name": "stdout",
     "output_type": "stream",
     "text": [
      "\n",
      "Varianzas:\n",
      " [[0.195841]\n",
      " [0.053816]\n",
      " [0.083977]\n",
      " [0.071042]\n",
      " [0.139274]\n",
      " [0.17264 ]]\n",
      "0.19584112918255894\n",
      "0.07104186962683787\n"
     ]
    }
   ],
   "source": [
    "varianzas = np.array([S[i, i] for i in range(m)]).reshape((m, 1))\n",
    "desvs = np.sqrt(varianzas)\n",
    "\n",
    "print(\"\\nVarianzas:\\n\", varianzas)\n",
    "\n",
    "\n",
    "def varPort(x): # Funcion de calculo de varianza de un portafolio\n",
    "    return x.T.dot(S).dot(x)[0,0]\n",
    "\n",
    "print(varPort(np.array([1,0,0,0,0,0]).reshape(m,1))) # Verificacion de que la funcion varPort funciona\n",
    "print(varPort(np.array([0,0,0,1,0,0]).reshape(m,1))) # Verificacion de que la funcion varPort funciona"
   ]
  },
  {
   "cell_type": "markdown",
   "metadata": {},
   "source": [
    "## Matriz de Covarianzas es Definida Positiva"
   ]
  },
  {
   "cell_type": "markdown",
   "metadata": {},
   "source": [
    "### Matriz Cuadrada"
   ]
  },
  {
   "cell_type": "code",
   "execution_count": 11,
   "metadata": {},
   "outputs": [
    {
     "data": {
      "text/plain": [
       "(6, 6)"
      ]
     },
     "execution_count": 11,
     "metadata": {},
     "output_type": "execute_result"
    }
   ],
   "source": [
    "np.shape(S)"
   ]
  },
  {
   "cell_type": "markdown",
   "metadata": {},
   "source": [
    "### Simétrica"
   ]
  },
  {
   "cell_type": "code",
   "execution_count": 12,
   "metadata": {},
   "outputs": [
    {
     "data": {
      "text/plain": [
       "array([[0., 0., 0., 0., 0., 0.],\n",
       "       [0., 0., 0., 0., 0., 0.],\n",
       "       [0., 0., 0., 0., 0., 0.],\n",
       "       [0., 0., 0., 0., 0., 0.],\n",
       "       [0., 0., 0., 0., 0., 0.],\n",
       "       [0., 0., 0., 0., 0., 0.]])"
      ]
     },
     "execution_count": 12,
     "metadata": {},
     "output_type": "execute_result"
    }
   ],
   "source": [
    "S - S.transpose() # Debería ser igual a su transpuesta,  y lo es pues su diferencia es 0"
   ]
  },
  {
   "cell_type": "markdown",
   "metadata": {},
   "source": [
    "### Definida Positiva"
   ]
  },
  {
   "cell_type": "markdown",
   "metadata": {},
   "source": [
    "Usamos la caracterización vista en clase: los subdeterminantes en línea son positivos. En particular vemos que el determinante de la matriz es distinto de $0$."
   ]
  },
  {
   "cell_type": "code",
   "execution_count": 13,
   "metadata": {},
   "outputs": [
    {
     "name": "stdout",
     "output_type": "stream",
     "text": [
      "El determinante de la submatriz  de tamaño  (1, 1)  que contiene la entrada 1,1, es decir la matriz\n",
      " [[0.195841]]  es  0.19584112918255894 != 0\n",
      "\n",
      "El determinante de la submatriz  de tamaño  (2, 2)  que contiene la entrada 1,1, es decir la matriz\n",
      " [[0.195841 0.069729]\n",
      " [0.069729 0.053816]]  es  0.005677203963545524 != 0\n",
      "\n",
      "El determinante de la submatriz  de tamaño  (3, 3)  que contiene la entrada 1,1, es decir la matriz\n",
      " [[0.195841 0.069729 0.070606]\n",
      " [0.069729 0.053816 0.042587]\n",
      " [0.070606 0.042587 0.083977]]  es  0.0002726227402310885 != 0\n",
      "\n",
      "El determinante de la submatriz  de tamaño  (4, 4)  que contiene la entrada 1,1, es decir la matriz\n",
      " [[0.195841 0.069729 0.070606 0.066326]\n",
      " [0.069729 0.053816 0.042587 0.049801]\n",
      " [0.070606 0.042587 0.083977 0.040482]\n",
      " [0.066326 0.049801 0.040482 0.071042]]  es  6.791507175274476e-06 != 0\n",
      "\n",
      "El determinante de la submatriz  de tamaño  (5, 5)  que contiene la entrada 1,1, es decir la matriz\n",
      " [[0.195841 0.069729 0.070606 0.066326 0.016321]\n",
      " [0.069729 0.053816 0.042587 0.049801 0.0114  ]\n",
      " [0.070606 0.042587 0.083977 0.040482 0.027572]\n",
      " [0.066326 0.049801 0.040482 0.071042 0.008762]\n",
      " [0.016321 0.0114   0.027572 0.008762 0.139274]]  es  8.806087377255293e-07 != 0\n",
      "\n"
     ]
    }
   ],
   "source": [
    "for k in range(1,m):\n",
    "    submatPpal = S[:k, :k]\n",
    "    detp = np.linalg.det(submatPpal)\n",
    "    print(\"El determinante de la submatriz  de tamaño \", np.shape(submatPpal), \" que contiene la entrada 1,1, es decir la matriz\\n\", submatPpal, \" es \", detp, \"!= 0\\n\")"
   ]
  },
  {
   "cell_type": "code",
   "execution_count": 14,
   "metadata": {},
   "outputs": [
    {
     "name": "stdout",
     "output_type": "stream",
     "text": [
      "[[ 10.430682 -11.308413  -3.160588   0.428515   0.436429   1.768793]\n",
      " [-11.308413  77.940575 -11.792222 -38.667086  -0.666807  -4.992232]\n",
      " [ -3.160588 -11.792222  21.967337  -0.943654  -2.956     -0.027958]\n",
      " [  0.428515 -38.667086  -0.943654  42.208544   0.919857   3.600403]\n",
      " [  0.436429  -0.666807  -2.956      0.919857   7.74657    0.470119]\n",
      " [  1.768793  -4.992232  -0.027958   3.600403   0.470119   6.446605]]\n"
     ]
    }
   ],
   "source": [
    "Sinv = np.linalg.inv(S)\n",
    "print(Sinv)"
   ]
  },
  {
   "cell_type": "code",
   "execution_count": 15,
   "metadata": {},
   "outputs": [
    {
     "data": {
      "text/plain": [
       "array([[ 1.,  0., -0.,  0.,  0., -0.],\n",
       "       [-0.,  1., -0., -0.,  0., -0.],\n",
       "       [-0., -0.,  1., -0., -0., -0.],\n",
       "       [-0., -0.,  0.,  1., -0.,  0.],\n",
       "       [-0., -0.,  0., -0.,  1.,  0.],\n",
       "       [ 0., -0.,  0.,  0., -0.,  1.]])"
      ]
     },
     "execution_count": 15,
     "metadata": {},
     "output_type": "execute_result"
    }
   ],
   "source": [
    "S.dot(Sinv)"
   ]
  },
  {
   "cell_type": "markdown",
   "metadata": {},
   "source": [
    "# 4"
   ]
  },
  {
   "cell_type": "markdown",
   "metadata": {},
   "source": [
    "Parámetros de la teoría"
   ]
  },
  {
   "cell_type": "code",
   "execution_count": 20,
   "metadata": {},
   "outputs": [
    {
     "name": "stdout",
     "output_type": "stream",
     "text": [
      "A = 32.958628128159624 \t B = 0.41113541046705426 \t C = 0.010439302986027235 , entonces D = 0.1750327792937448\n"
     ]
    }
   ],
   "source": [
    "u = np.ones((m, 1))\n",
    "\n",
    "A = u.T.dot(Sinv.dot(u))[0,0]\n",
    "B = u.T.dot(Sinv.dot(retProm))[0,0]\n",
    "C = retProm.T.dot(Sinv.dot(retProm))[0,0]\n",
    "D = A*C - B**2\n",
    "\n",
    "print(\"A =\", A, \"\\t B =\", B, \"\\t C =\", C, \", entonces D =\", D)"
   ]
  },
  {
   "cell_type": "markdown",
   "metadata": {},
   "source": [
    "# 5"
   ]
  },
  {
   "cell_type": "markdown",
   "metadata": {},
   "source": [
    "Ecuación general de los portafolios óptimos dados los parámetros de la teoría $A, B, C$ y el parámetro $\\mu$: $x*(\\mu) = (\\frac{C - B\\mu}{D}) S^{-1} \\hat u + (\\frac{A \\mu - B}{D})S^{-1}\\bar r$, en nuestro caso, como:"
   ]
  },
  {
   "cell_type": "code",
   "execution_count": 48,
   "metadata": {},
   "outputs": [
    {
     "name": "stdout",
     "output_type": "stream",
     "text": [
      "\t\t PORTAFOLIOS EFICIENTES\n",
      "Cada fila corresponde a un activo y cada columna a un valo de mu distinto\n",
      "\n",
      "       0.0     0.00375      0.0075     0.01125       0.015     0.01875      0.0225     0.02625        0.03\n",
      "----------  ----------  ----------  ----------  ----------  ----------  ----------  ----------  ----------\n",
      " 0.15218     0.0936206   0.0350612  -0.0234982  -0.0820576  -0.140617   -0.199176   -0.257736   -0.316295\n",
      " 0.667353    0.562632    0.457911    0.353189    0.248468    0.143747    0.0390256  -0.0656957  -0.170417\n",
      " 0.40858     0.313909    0.219239    0.124568    0.0298975  -0.0647732  -0.159444   -0.254114   -0.348785\n",
      "-0.566745   -0.327538   -0.0883313   0.150876    0.390083    0.62929     0.868497    1.1077      1.34691\n",
      " 0.0243601   0.071309    0.118258    0.165207    0.212156    0.259105    0.306053    0.353002    0.399951\n",
      " 0.314272    0.286067    0.257863    0.229658    0.201454    0.173249    0.145044    0.11684     0.0886353\n"
     ]
    }
   ],
   "source": [
    "def xOptMu(mu): # Funcion para calculo del portafolio optimo dado parametro mu. Devuelve matrix mx1\n",
    "    return ((C - B*mu)/D) * Sinv.dot(u) + ((A*mu - B)/D) * Sinv.dot(retProm)\n",
    "\n",
    "\n",
    "#Test para ver que xOptMu funciona bien: comprobar que en mu = B/A se halla el portafolio optimo\n",
    "#print(xOptMu(B/A)) # Portafolio calculado\n",
    "#print(1/A * Sinv.dot(u)) # Portafolio optimo teorico\n",
    "# print(varPort(xOptMu(B/A)), 1/A) # Varianzas calculadas y teorica\n",
    "\n",
    "rentDeseadas = np.linspace(0., 0.03, 9)\n",
    "\n",
    "portOptMu = np.zeros( (m, len(rentDeseadas)) )\n",
    "\n",
    "for i in range(len(rentDeseadas)):\n",
    "    portOptMu[:,i] = xOptMu(rentDeseadas[i]).flatten()\n",
    "    \n",
    "print(\"\\t\\t PORTAFOLIOS EFICIENTES\")\n",
    "print(\"Cada fila corresponde a un activo y cada columna a un valo de mu distinto\\n\")\n",
    "print(tabulate(portOptMu, rentDeseadas))"
   ]
  },
  {
   "cell_type": "markdown",
   "metadata": {},
   "source": [
    "En todos los portafolios hay posiciones en corto para al menos un activo."
   ]
  },
  {
   "cell_type": "markdown",
   "metadata": {},
   "source": [
    "# 6"
   ]
  },
  {
   "cell_type": "code",
   "execution_count": 67,
   "metadata": {},
   "outputs": [
    {
     "data": {
      "image/png": "[encoded data removed]",
      "text/plain": [
       "<Figure size 720x720 with 1 Axes>"
      ]
     },
     "metadata": {
      "needs_background": "light"
     },
     "output_type": "display_data"
    }
   ],
   "source": [
    "#varAx = np.linspace(0, 1.6*max([S[i, i] for i in range(m)]), 200)\n",
    "mus = np.linspace(-0.005, 2*np.max(retProm), 200)\n",
    "varFront = (A*mus**2 - 2*mus*B + C)/D\n",
    "\n",
    "plt.figure(figsize = (10,10))\n",
    "\n",
    "plt.xlabel(\"Riesgo: Varianza $\\sigma^2$\")\n",
    "plt.ylabel(\"Retorno  Promedio $\\mu$\")\n",
    "\n",
    "# Frontera eficiente\n",
    "plt.plot(varFront, mus) \n",
    "\n",
    "# Activos elegidos\n",
    "plt.plot(varianzas, retProm, 'ro') \n",
    "\n",
    "# 4 Portafolios Eficientes\n",
    "musElegidos = [rentDeseadas[1], rentDeseadas[3], rentDeseadas[5], rentDeseadas[8]]\n",
    "\n",
    "plt.plot([varPort(xOptMu(mu)) for mu in musElegidos], musElegidos, 'go')\n",
    "\n",
    "#plt.plot(1/A, B/A, 'ko')\n",
    "\n",
    "\n",
    "plt.legend((\"Frontera Eficiente\", \"Activos\", \"Portafolios Eficientes selectos\"), loc = \"upper left\")\n",
    "\n",
    "\n",
    "plt.show()"
   ]
  }
 ],
 "metadata": {
  "kernelspec": {
   "display_name": "Python 3",
   "language": "python",
   "name": "python3"
  },
  "language_info": {
   "codemirror_mode": {
    "name": "ipython",
    "version": 3
   },
   "file_extension": ".py",
   "mimetype": "text/x-python",
   "name": "python",
   "nbconvert_exporter": "python",
   "pygments_lexer": "ipython3",
   "version": "3.6.8"
  }
 },
 "nbformat": 4,
 "nbformat_minor": 2
}
