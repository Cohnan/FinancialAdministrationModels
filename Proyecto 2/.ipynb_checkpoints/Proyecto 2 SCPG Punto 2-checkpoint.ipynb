{
 "cells": [
  {
   "cell_type": "markdown",
   "metadata": {},
   "source": [
    "# Proyecto 1, Modelos de Gestión Financiera\n",
    "## Sebastian Puerto\n",
    "## 25 de septiembre de 2019\n",
    "\n",
    "# Punto 2"
   ]
  },
  {
   "cell_type": "code",
   "execution_count": 4,
   "metadata": {},
   "outputs": [],
   "source": [
    "from simulador_S import grafico_valor_activo\n",
    "\n",
    "import numpy as np\n",
    "import matplotlib.pyplot as plt\n",
    "from scipy.stats import norm\n",
    "%matplotlib inline"
   ]
  },
  {
   "cell_type": "code",
   "execution_count": 22,
   "metadata": {},
   "outputs": [],
   "source": [
    "def d1(S, t, E, r, sig, T):\n",
    "    res = np.log(E/S) - (r + sig**2/2)*(T-t)\n",
    "    res = res/( sig * np.sqrt(T-t) )\n",
    "    \n",
    "    return res\n",
    "\n",
    "def d2(S, t, E, r, sig, T):\n",
    "    res = np.log(E/S) - (r - sig**2/2)*(T-t)\n",
    "    res = res/( sig * np.sqrt(T-t) )\n",
    "    \n",
    "    return res\n",
    "\n",
    "def callV(S, t, E1, E2, r, sig, T):\n",
    "    \n",
    "    d1E1 = d1(S, T, E1, r, sig, T)\n",
    "    d1E2 = d1(S, T, E2, r, sig, T)\n",
    "    d2E1 = d2(S, T, E1, r, sig, T)\n",
    "    d2E2 = d2(S, T, E2, r, sig, T)\n",
    "    \n",
    "    p1 = norm.cdf(d1E2) - norm.cdf(d1E1)\n",
    "    \n",
    "    p2 = norm.cdf(d2E2)- norm.cdf(d2E1)\n",
    "    return S * p1  -  E1*np.exp(-r*(T-t)) * p2"
   ]
  },
  {
   "cell_type": "code",
   "execution_count": 65,
   "metadata": {},
   "outputs": [
    {
     "name": "stderr",
     "output_type": "stream",
     "text": [
      "/usr/local/lib/python3.6/dist-packages/ipykernel_launcher.py:3: RuntimeWarning: divide by zero encountered in double_scalars\n",
      "  This is separate from the ipykernel package so we can avoid doing imports until\n",
      "/usr/local/lib/python3.6/dist-packages/ipykernel_launcher.py:9: RuntimeWarning: divide by zero encountered in double_scalars\n",
      "  if __name__ == '__main__':\n",
      "/usr/local/lib/python3.6/dist-packages/ipykernel_launcher.py:3: RuntimeWarning: divide by zero encountered in true_divide\n",
      "  This is separate from the ipykernel package so we can avoid doing imports until\n",
      "/usr/local/lib/python3.6/dist-packages/ipykernel_launcher.py:9: RuntimeWarning: divide by zero encountered in true_divide\n",
      "  if __name__ == '__main__':\n",
      "/usr/local/lib/python3.6/dist-packages/ipykernel_launcher.py:2: RuntimeWarning: divide by zero encountered in true_divide\n",
      "  \n",
      "/usr/local/lib/python3.6/dist-packages/ipykernel_launcher.py:8: RuntimeWarning: divide by zero encountered in true_divide\n",
      "  \n"
     ]
    },
    {
     "ename": "AttributeError",
     "evalue": "'AxesSubplot' object has no attribute 'plot_surface'",
     "output_type": "error",
     "traceback": [
      "\u001b[0;31m---------------------------------------------------------------------------\u001b[0m",
      "\u001b[0;31mAttributeError\u001b[0m                            Traceback (most recent call last)",
      "\u001b[0;32m<ipython-input-65-c15f82ee1b68>\u001b[0m in \u001b[0;36m<module>\u001b[0;34m\u001b[0m\n\u001b[1;32m     17\u001b[0m \u001b[0;34m\u001b[0m\u001b[0m\n\u001b[1;32m     18\u001b[0m \u001b[0max\u001b[0m \u001b[0;34m=\u001b[0m \u001b[0mfig\u001b[0m\u001b[0;34m.\u001b[0m\u001b[0mgca\u001b[0m\u001b[0;34m(\u001b[0m\u001b[0;34m)\u001b[0m\u001b[0;34m\u001b[0m\u001b[0;34m\u001b[0m\u001b[0m\n\u001b[0;32m---> 19\u001b[0;31m \u001b[0max\u001b[0m\u001b[0;34m.\u001b[0m\u001b[0mplot_surface\u001b[0m\u001b[0;34m(\u001b[0m\u001b[0mSs\u001b[0m\u001b[0;34m,\u001b[0m \u001b[0mTs\u001b[0m\u001b[0;34m,\u001b[0m \u001b[0mCs\u001b[0m\u001b[0;34m)\u001b[0m\u001b[0;34m\u001b[0m\u001b[0;34m\u001b[0m\u001b[0m\n\u001b[0m\u001b[1;32m     20\u001b[0m \u001b[0mplt\u001b[0m\u001b[0;34m.\u001b[0m\u001b[0mshow\u001b[0m\u001b[0;34m(\u001b[0m\u001b[0;34m)\u001b[0m\u001b[0;34m\u001b[0m\u001b[0;34m\u001b[0m\u001b[0m\n",
      "\u001b[0;31mAttributeError\u001b[0m: 'AxesSubplot' object has no attribute 'plot_surface'"
     ]
    },
    {
     "data": {
      "image/png": "[encoded data removed]",
      "text/plain": [
       "<Figure size 432x288 with 1 Axes>"
      ]
     },
     "metadata": {
      "needs_background": "light"
     },
     "output_type": "display_data"
    },
    {
     "data": {
      "image/png": "[encoded data removed]",
      "text/plain": [
       "<Figure size 432x288 with 1 Axes>"
      ]
     },
     "metadata": {
      "needs_background": "light"
     },
     "output_type": "display_data"
    }
   ],
   "source": [
    "callV(S = 100, t = 20, E1 = 80, E2 = 200, r = 0.015, sig = 0.09, T = 100)\n",
    "\n",
    "ts = np.linspace(0, 7, 100)\n",
    "Ss = np.linspace(100, 300, 100)\n",
    "cs = callV(S = Ss, t = ts, E1 = 70, E2 = 250, r = 0.01, sig = 0.02, T = 10)\n",
    "\n",
    "plt.figure()\n",
    "plt.title(\"Valor de la opcion ventana si S0 = 100\\nE1 = 70, E2 = 250, r = 0.01, sig = 0.02, T = 10\")\n",
    "plt.plot(ts, cs)\n",
    "\n",
    "fig = plt.figure()\n",
    "ts = np.linspace(0, 24, 200)\n",
    "Ss = np.linspace(0, 300, 200)\n",
    "Ts, Ss = np.meshgrid(ts, Ss)\n",
    "Cs = callV(S = Ss, t = Ts, E1 = 80, E2 = 200, r = 0.015, sig = 0.09, T = 100)\n",
    "#print(Cs)\n",
    "\n",
    "ax = fig.gca()\n",
    "ax.plot_surface(Ss, Ts, Cs)\n",
    "plt.show()\n"
   ]
  },
  {
   "cell_type": "markdown",
   "metadata": {},
   "source": [
    "# Calculo de Portafolios"
   ]
  },
  {
   "cell_type": "code",
   "execution_count": 74,
   "metadata": {},
   "outputs": [
    {
     "name": "stdout",
     "output_type": "stream",
     "text": [
      "(3, 1)\n",
      "[[2.5]\n",
      " [2.5]]\n"
     ]
    },
    {
     "name": "stderr",
     "output_type": "stream",
     "text": [
      "/usr/local/lib/python3.6/dist-packages/ipykernel_launcher.py:3: RuntimeWarning: divide by zero encountered in true_divide\n",
      "  This is separate from the ipykernel package so we can avoid doing imports until\n",
      "/usr/local/lib/python3.6/dist-packages/ipykernel_launcher.py:9: RuntimeWarning: divide by zero encountered in true_divide\n",
      "  if __name__ == '__main__':\n"
     ]
    },
    {
     "data": {
      "text/plain": [
       "<Figure size 432x288 with 0 Axes>"
      ]
     },
     "metadata": {},
     "output_type": "display_data"
    }
   ],
   "source": [
    "#mus  = np.array([0.001, 0.005, 0.015, 0.03])\n",
    "mus = [0.03]\n",
    "#sigs = [0.01, 0.05, 0.09, 0.15]\n",
    "sigs = [0.09]\n",
    "\n",
    "portss = [[1., 0, 0], [0, 1., 0], [0, 0, 1.], [0.5, 0.5, 0], [0.4, 0.4, 0.2]]\n",
    "\n",
    "MU = 0.03\n",
    "SIG = 0.09\n",
    "\n",
    "rendsMej3 = []\n",
    "rendsMej2 = []\n",
    "\n",
    "for mmu in mus:\n",
    "    for ssig in sigs:\n",
    "        ts, S1s = grafico_valor_activo(mu = mmu, sig = ssig, S0 = 100, N = 60, txtad = \"Sim. 1\", graficar = False, pts = 60)\n",
    "        ts, S2s = grafico_valor_activo(mu = mmu, sig = ssig, S0 = 100, N = 60, txtad = \"Sim. 2\", graficar = False, pts = 60)\n",
    "        \n",
    "        C1s = callV(S = S1s, t = ts, E1 = 70, E2 = 300, r = mmu/1.2, sig = ssig, T = 60) # r = mu / 1.2\n",
    "        C2s = callV(S = S2s, t = ts, E1 = 70, E2 = 300, r = mmu/1.2, sig = ssig, T = 60)\n",
    "        \n",
    "        Ls = 100.*np.exp(ts)\n",
    "        \n",
    "        portMej2 = np.array([[0.5], [0.0], [0.5]])\n",
    "        portMej3 = np.array([[0.5], [0.3], [0.2]])\n",
    "        print(np.shape(portMej2))\n",
    "        \n",
    "        if  (mmu == MU and ssig == SIG):\n",
    "            fig = plt.figure()\n",
    "        \n",
    "        Sf = S1s[-1]\n",
    "        Cf = C1s[-1]\n",
    "        Lf = Ls[-1]\n",
    "        rendsMej2.append((portMej2[0]*Sf + portMej2[1]*Cf + portMej2[2]*Lf)/100)\n",
    "        rendsMej3.append((portMej3[0]*Sf + portMej3[1]*Cf + portMej3[2]*Lf)/100)\n",
    "        \n",
    "        Sf = S2s[-1]\n",
    "        Cf = C2s[-1]\n",
    "        Lf = Ls[-1]\n",
    "        rendsMej2.append((portMej2[0]*Sf + portMej2[1]*Cf + portMej2[2]*Lf)/100)\n",
    "        rendsMej3.append((portMej3[0]*Sf + portMej3[1]*Cf + portMej3[2]*Lf)/100)\n",
    "        \n",
    "rendsMej2 = np.array(rendsMej2)\n",
    "rendsMej3 = np.array(rendsMej3)\n",
    "\n",
    "ratio = rendsMej2/rendsMej3\n",
    "print(ratio)\n",
    "        \n",
    "        "
   ]
  }
 ],
 "metadata": {
  "kernelspec": {
   "display_name": "Python 3",
   "language": "python",
   "name": "python3"
  },
  "language_info": {
   "codemirror_mode": {
    "name": "ipython",
    "version": 3
   },
   "file_extension": ".py",
   "mimetype": "text/x-python",
   "name": "python",
   "nbconvert_exporter": "python",
   "pygments_lexer": "ipython3",
   "version": "3.6.8"
  }
 },
 "nbformat": 4,
 "nbformat_minor": 2
}
