{
 "cells": [
  {
   "cell_type": "code",
   "execution_count": 2,
   "metadata": {},
   "outputs": [],
   "source": [
    "import numpy as np\n",
    "import matplotlib.pyplot as plt\n",
    "import csv\n",
    "from tabulate import tabulate\n",
    "np.set_printoptions(precision=6) #Mostrar numeros con maximo seis digitos de precision\n",
    "np.set_printoptions(suppress=True) # Suprimir uso de notacion cientifica para numeros muy pequenos"
   ]
  },
  {
   "cell_type": "code",
   "execution_count": 171,
   "metadata": {},
   "outputs": [],
   "source": [
    "N = 23 # Numero de periodos\n",
    "mYah = 1 # Numero de acciones extraidas de Yahoo\n",
    "mFin = 6 # Numero de acciones extraidas de Finance.com\n",
    "m = mYah + mFin # Numero de acciones\n",
    "\n",
    "precios = np.zeros((m, N+1))\n",
    "retornos = np.zeros((m, N))"
   ]
  },
  {
   "cell_type": "markdown",
   "metadata": {},
   "source": [
    "Extrayendo columnas de los archivos de Yahoo Finance:"
   ]
  },
  {
   "cell_type": "code",
   "execution_count": 172,
   "metadata": {},
   "outputs": [],
   "source": [
    "archivosYahoo = ['csvs/EC.csv','csvs/CIB.csv']"
   ]
  },
  {
   "cell_type": "code",
   "execution_count": 173,
   "metadata": {},
   "outputs": [],
   "source": [
    "for k in range(mYah):\n",
    "    archivo = archivosYahoo[k]\n",
    "    lector = csv.reader(open(archivo))\n",
    "    lector.__next__() #Ignorar primer renglon\n",
    "    \n",
    "    for i in range(N+1):\n",
    "        precios[k, i] = lector.__next__()[5] #Extraer la 5ta columna: precio de cierre ajustado\n",
    "        if (i > 0):\n",
    "            retornos[k, i-1] = (precios[k, i] - precios[k, i-1])/precios[k, i-1]"
   ]
  },
  {
   "cell_type": "markdown",
   "metadata": {},
   "source": [
    "Extrayendo columnas de los archivos de Investing.com"
   ]
  },
  {
   "cell_type": "code",
   "execution_count": 174,
   "metadata": {},
   "outputs": [],
   "source": [
    " archivosFin = [ 'csvs/CFV-2.csv', 'csvs/FTSE-2.csv', 'csvs/IMI-2.csv', 'csvs/BIC_p1-2.csv', 'csvs/MAS-2.csv', 'csvs/PMG-2.csv']"
   ]
  },
  {
   "cell_type": "code",
   "execution_count": 175,
   "metadata": {},
   "outputs": [],
   "source": [
    "for k in range(mYah, mYah + mFin):\n",
    "    archivo = archivosFin[k - mYah]\n",
    "    lector = csv.reader(open(archivo))\n",
    "    lector.__next__() #Ignorar primer renglon\n",
    "    \n",
    "    for i in range(N, -1, -1):\n",
    "        precios[k, i] = lector.__next__()[1] #Extraer la 1era columna: precio de cierre\n",
    "        if (i < N):\n",
    "            retornos[k, i] = (precios[k, i+1] - precios[k, i])/precios[k, i]"
   ]
  },
  {
   "cell_type": "code",
   "execution_count": 176,
   "metadata": {},
   "outputs": [
    {
     "data": {
      "text/plain": [
       "(7, 23)"
      ]
     },
     "execution_count": 176,
     "metadata": {},
     "output_type": "execute_result"
    }
   ],
   "source": [
    "np.shape(retornos)"
   ]
  },
  {
   "cell_type": "markdown",
   "metadata": {},
   "source": [
    "TODO: Explicar, a la luz de la lectura 1, la naturaleza de esos activos."
   ]
  },
  {
   "cell_type": "markdown",
   "metadata": {},
   "source": [
    "# 3"
   ]
  },
  {
   "cell_type": "markdown",
   "metadata": {},
   "source": [
    "Vector de Rendimientos promedio"
   ]
  },
  {
   "cell_type": "code",
   "execution_count": 177,
   "metadata": {},
   "outputs": [
    {
     "name": "stdout",
     "output_type": "stream",
     "text": [
      "Tamaño de matriz de rentabilidades: (7, 1)\n",
      "Retornos promedio:\n",
      " [[0.031721]\n",
      " [0.001484]\n",
      " [0.010866]\n",
      " [0.005016]\n",
      " [0.019599]\n",
      " [0.018384]\n",
      " [0.003606]]\n"
     ]
    }
   ],
   "source": [
    "retProm = np.mean(retornos, 1, keepdims = True) # Hallar el promedio de la matriz de retornos a lo largo del eje temporal\n",
    "print(\"Tamaño de matriz de rentabilidades:\", np.shape(retProm)) # En efecto el vector retProm tiene tamaño 7x1, donde 7 es el número de activos\n",
    "print(\"Retornos promedio:\\n\", retProm)"
   ]
  },
  {
   "cell_type": "markdown",
   "metadata": {},
   "source": [
    "Matriz de Covarianzas"
   ]
  },
  {
   "cell_type": "code",
   "execution_count": 178,
   "metadata": {},
   "outputs": [
    {
     "name": "stdout",
     "output_type": "stream",
     "text": [
      "Matriz de covarianzas:\n",
      " [[ 0.396993  0.089865  0.105785  0.088195  0.050704 -0.020436 -0.00533 ]\n",
      " [ 0.089865  0.195841  0.069729  0.070606  0.066326  0.016321 -0.037663]\n",
      " [ 0.105785  0.069729  0.053816  0.042587  0.049801  0.0114   -0.005918]\n",
      " [ 0.088195  0.070606  0.042587  0.083977  0.040482  0.027572 -0.010649]\n",
      " [ 0.050704  0.066326  0.049801  0.040482  0.071042  0.008762 -0.019772]\n",
      " [-0.020436  0.016321  0.0114    0.027572  0.008762  0.139274 -0.01058 ]\n",
      " [-0.00533  -0.037663 -0.005918 -0.010649 -0.019772 -0.01058   0.17264 ]]\n"
     ]
    }
   ],
   "source": [
    "S = np.zeros((m, m)) # Inicializacion en 0's\n",
    "\n",
    "for k in range(m): # Iterar con k sobre activos\n",
    "    for l in range(m): # Iterar con l sobre activos\n",
    "        for i in range(N): # Iterar sobre el tiempo con i\n",
    "            # Para la combinacion de activos k y l se suma la contribución a la covarianza por el tiempo i\n",
    "            S[k, l] += (retornos[k, i] - retProm[k])*(retornos[l, i] - retProm[l]) \n",
    "            \n",
    "print(\"Matriz de covarianzas:\\n\", S)"
   ]
  },
  {
   "cell_type": "markdown",
   "metadata": {},
   "source": [
    "## Matriz de Covarianzas es Definida Positiva"
   ]
  },
  {
   "cell_type": "markdown",
   "metadata": {},
   "source": [
    "### Matriz Cuadrada"
   ]
  },
  {
   "cell_type": "code",
   "execution_count": 179,
   "metadata": {},
   "outputs": [
    {
     "data": {
      "text/plain": [
       "(7, 7)"
      ]
     },
     "execution_count": 179,
     "metadata": {},
     "output_type": "execute_result"
    }
   ],
   "source": [
    "np.shape(S)"
   ]
  },
  {
   "cell_type": "markdown",
   "metadata": {},
   "source": [
    "### Simétrica"
   ]
  },
  {
   "cell_type": "code",
   "execution_count": 180,
   "metadata": {},
   "outputs": [
    {
     "data": {
      "text/plain": [
       "array([[0., 0., 0., 0., 0., 0., 0.],\n",
       "       [0., 0., 0., 0., 0., 0., 0.],\n",
       "       [0., 0., 0., 0., 0., 0., 0.],\n",
       "       [0., 0., 0., 0., 0., 0., 0.],\n",
       "       [0., 0., 0., 0., 0., 0., 0.],\n",
       "       [0., 0., 0., 0., 0., 0., 0.],\n",
       "       [0., 0., 0., 0., 0., 0., 0.]])"
      ]
     },
     "execution_count": 180,
     "metadata": {},
     "output_type": "execute_result"
    }
   ],
   "source": [
    "S - S.transpose() # Debería ser igual a su transpuesta,  y lo es pues su diferencia es 0"
   ]
  },
  {
   "cell_type": "markdown",
   "metadata": {},
   "source": [
    "### Definida Positiva"
   ]
  },
  {
   "cell_type": "markdown",
   "metadata": {},
   "source": [
    "Usamos la caracterización vista en clase: los subdeterminantes en línea son positivos. En particular vemos que el determinante de la matriz es distinto de $0$."
   ]
  },
  {
   "cell_type": "code",
   "execution_count": 181,
   "metadata": {},
   "outputs": [
    {
     "name": "stdout",
     "output_type": "stream",
     "text": [
      "El determinante de la submatriz  de tamaño  (1, 1)  que contiene la entrada 1,1, es decir la matriz\n",
      " [[0.396993]]  es  0.39699285797971506 != 0\n",
      "\n",
      "El determinante de la submatriz  de tamaño  (2, 2)  que contiene la entrada 1,1, es decir la matriz\n",
      " [[0.396993 0.089865]\n",
      " [0.089865 0.195841]]  es  0.06967184316092179 != 0\n",
      "\n",
      "El determinante de la submatriz  de tamaño  (3, 3)  que contiene la entrada 1,1, es decir la matriz\n",
      " [[0.396993 0.089865 0.105785]\n",
      " [0.089865 0.195841 0.069729]\n",
      " [0.105785 0.069729 0.053816]]  es  0.000953388071341158 != 0\n",
      "\n",
      "El determinante de la submatriz  de tamaño  (4, 4)  que contiene la entrada 1,1, es decir la matriz\n",
      " [[0.396993 0.089865 0.105785 0.088195]\n",
      " [0.089865 0.195841 0.069729 0.070606]\n",
      " [0.105785 0.069729 0.053816 0.042587]\n",
      " [0.088195 0.070606 0.042587 0.083977]]  es  4.504655173024123e-05 != 0\n",
      "\n",
      "El determinante de la submatriz  de tamaño  (5, 5)  que contiene la entrada 1,1, es decir la matriz\n",
      " [[0.396993 0.089865 0.105785 0.088195 0.050704]\n",
      " [0.089865 0.195841 0.069729 0.070606 0.066326]\n",
      " [0.105785 0.069729 0.053816 0.042587 0.049801]\n",
      " [0.088195 0.070606 0.042587 0.083977 0.040482]\n",
      " [0.050704 0.066326 0.049801 0.040482 0.071042]]  es  5.307588551609694e-07 != 0\n",
      "\n",
      "El determinante de la submatriz  de tamaño  (6, 6)  que contiene la entrada 1,1, es decir la matriz\n",
      " [[ 0.396993  0.089865  0.105785  0.088195  0.050704 -0.020436]\n",
      " [ 0.089865  0.195841  0.069729  0.070606  0.066326  0.016321]\n",
      " [ 0.105785  0.069729  0.053816  0.042587  0.049801  0.0114  ]\n",
      " [ 0.088195  0.070606  0.042587  0.083977  0.040482  0.027572]\n",
      " [ 0.050704  0.066326  0.049801  0.040482  0.071042  0.008762]\n",
      " [-0.020436  0.016321  0.0114    0.027572  0.008762  0.139274]]  es  5.152345760576885e-08 != 0\n",
      "\n"
     ]
    }
   ],
   "source": [
    "for k in range(1,m):\n",
    "    submatPpal = S[:k, :k]\n",
    "    detp = np.linalg.det(submatPpal)\n",
    "    print(\"El determinante de la submatriz  de tamaño \", np.shape(submatPpal), \" que contiene la entrada 1,1, es decir la matriz\\n\", submatPpal, \" es \", detp, \"!= 0\\n\")"
   ]
  },
  {
   "cell_type": "code",
   "execution_count": 182,
   "metadata": {},
   "outputs": [
    {
     "name": "stdout",
     "output_type": "stream",
     "text": [
      "[[  19.965983   10.667413  -85.222984   -8.35864    40.590733    8.110164\n",
      "     4.652734]\n",
      " [  10.667413   16.130061  -56.841296   -7.626437   22.115306    4.769523\n",
      "     4.254653]\n",
      " [ -85.222984  -56.841296  441.707142   23.885875 -211.924942  -35.284305\n",
      "   -24.852004]\n",
      " [  -8.35864    -7.626437   23.885875   25.466633  -17.936723   -6.351272\n",
      "    -1.975797]\n",
      " [  40.590733   22.115306 -211.924942  -17.936723  124.72928    17.407775\n",
      "    13.059385]\n",
      " [   8.110164    4.769523  -35.284305   -6.351272   17.407775   11.040911\n",
      "     2.360055]\n",
      " [   4.652734    4.254653  -24.852004   -1.975797   13.059385    2.360055\n",
      "     7.530845]]\n"
     ]
    }
   ],
   "source": [
    "Sinv = np.linalg.inv(S)\n",
    "print(Sinv)"
   ]
  },
  {
   "cell_type": "code",
   "execution_count": 183,
   "metadata": {},
   "outputs": [
    {
     "data": {
      "text/plain": [
       "array([[ 1.,  0.,  0.,  0., -0., -0.,  0.],\n",
       "       [-0.,  1.,  0., -0., -0., -0., -0.],\n",
       "       [-0.,  0.,  1.,  0.,  0., -0., -0.],\n",
       "       [-0.,  0., -0.,  1., -0., -0.,  0.],\n",
       "       [-0.,  0., -0.,  0.,  1., -0., -0.],\n",
       "       [-0., -0., -0.,  0., -0.,  1., -0.],\n",
       "       [-0.,  0.,  0.,  0.,  0., -0.,  1.]])"
      ]
     },
     "execution_count": 183,
     "metadata": {},
     "output_type": "execute_result"
    }
   ],
   "source": [
    "S.dot(Sinv)"
   ]
  },
  {
   "cell_type": "markdown",
   "metadata": {},
   "source": [
    "# 4"
   ]
  },
  {
   "cell_type": "markdown",
   "metadata": {},
   "source": [
    "Parámetros de la teoría"
   ]
  },
  {
   "cell_type": "code",
   "execution_count": 184,
   "metadata": {},
   "outputs": [
    {
     "name": "stdout",
     "output_type": "stream",
     "text": [
      "A = 37.569285781218774 \t B = 0.10231792192039774 \t C = 0.031123606269526646 , entonces D = 1.1588227013358703\n"
     ]
    }
   ],
   "source": [
    "u = np.ones((m, 1))\n",
    "\n",
    "A = u.transpose().dot(Sinv.dot(u))[0,0]\n",
    "B = u.transpose().dot(Sinv.dot(retProm))[0,0]\n",
    "C = retProm.transpose().dot(Sinv.dot(retProm))[0,0]\n",
    "D = A*C - B**2\n",
    "\n",
    "print(\"A =\", A, \"\\t B =\", B, \"\\t C =\", C, \", entonces D =\", D)"
   ]
  },
  {
   "cell_type": "markdown",
   "metadata": {},
   "source": [
    "# 5"
   ]
  },
  {
   "cell_type": "markdown",
   "metadata": {},
   "source": [
    "Ecuación general de los portafolios óptimos dados los parámetros de la teoría $A, B, C$ y el parámetro $\\mu$: $x*(\\mu) = (\\frac{C - B\\mu}{D}) S^{-1} \\hat u + (\\frac{A \\mu - B}{D})S^{-1}\\bar r$, en nuestro caso, como:"
   ]
  },
  {
   "cell_type": "code",
   "execution_count": 185,
   "metadata": {},
   "outputs": [
    {
     "name": "stdout",
     "output_type": "stream",
     "text": [
      "    Mu    % Activo 1    % Activo 2    % Activo 3    % Activo 4    % Activo 5    % Activo 6    % Activo 7\n",
      "------  ------------  ------------  ------------  ------------  ------------  ------------  ------------\n",
      "0         -0.314433     -0.19685       1.62602      0.222981      -0.474777      0.0196629      0.117394\n",
      "0.0025    -0.260229     -0.175721      1.39095      0.191862      -0.33116       0.0517719      0.13253\n",
      "0.005     -0.206025     -0.154593      1.15587      0.160743      -0.187543      0.0838809      0.147666\n",
      "0.0075    -0.151821     -0.133464      0.920794     0.129624      -0.0439253     0.11599        0.162802\n",
      "0.01      -0.0976168    -0.112336      0.685719     0.0985052      0.099692      0.148099       0.177938\n",
      "0.0125    -0.0434129    -0.0912076     0.450643     0.0673861      0.243309      0.180208       0.193074\n",
      "0.015      0.0107911    -0.0700792     0.215567     0.0362671      0.386926      0.212317       0.20821\n",
      "0.0175     0.0649951    -0.0489508    -0.0195083    0.00514801     0.530544      0.244426       0.223346\n",
      "0.02       0.119199     -0.0278224    -0.254584    -0.025971       0.674161      0.276535       0.238483\n"
     ]
    }
   ],
   "source": [
    "def xOptMu(mu):\n",
    "    return ((C - B*mu)/D) * Sinv.dot(u) + ((A*mu - B)/D) * Sinv.dot(retProm)\n",
    "\n",
    "rentDeseadas = np.linspace(0., 0.02, 9).reshape((9,1,1))\n",
    "\n",
    "portOptMu = np.zeros( (len(rentDeseadas), m, 1) )\n",
    "\n",
    "for i in range(len(rentDeseadas)):\n",
    "    portOptMu[i] = xOptMu(rentDeseadas[i])\n",
    "    \n",
    "print(tabulate(np.concatenate((rentDeseadas,portOptMu), axis = 1), [\"Mu\"] +[\"% Activo \"+str(i) for i in range(1, 8)]))"
   ]
  },
  {
   "cell_type": "markdown",
   "metadata": {},
   "source": [
    "En todos los portafolios hay posiciones en corto."
   ]
  },
  {
   "cell_type": "markdown",
   "metadata": {},
   "source": [
    "# 6"
   ]
  },
  {
   "cell_type": "code",
   "execution_count": 188,
   "metadata": {},
   "outputs": [
    {
     "data": {
      "text/plain": [
       "Text(0, 0.5, 'Retorno  Promedio $\\\\mu$')"
      ]
     },
     "execution_count": 188,
     "metadata": {},
     "output_type": "execute_result"
    },
    {
     "data": {
      "image/png": "[encoded data removed]",
      "text/plain": [
       "<Figure size 432x288 with 1 Axes>"
      ]
     },
     "metadata": {
      "needs_background": "light"
     },
     "output_type": "display_data"
    }
   ],
   "source": [
    "#varAx = np.linspace(0, 1.6*max([S[i, i] for i in range(m)]), 200)\n",
    "mus = np.linspace(-0.0, np.max(retProm), 200)\n",
    "frontera = (A*mus**2 - 2*mus*B + C)/D\n",
    "\n",
    "plt.plot(frontera, mus)\n",
    "plt.xlabel(\"Riesgo: Varianza $\\sigma^2$\")\n",
    "plt.ylabel(\"Retorno  Promedio $\\mu$\")"
   ]
  },
  {
   "cell_type": "code",
   "execution_count": null,
   "metadata": {},
   "outputs": [],
   "source": []
  },
  {
   "cell_type": "code",
   "execution_count": null,
   "metadata": {},
   "outputs": [],
   "source": []
  }
 ],
 "metadata": {
  "kernelspec": {
   "display_name": "Python 3",
   "language": "python",
   "name": "python3"
  },
  "language_info": {
   "codemirror_mode": {
    "name": "ipython",
    "version": 3
   },
   "file_extension": ".py",
   "mimetype": "text/x-python",
   "name": "python",
   "nbconvert_exporter": "python",
   "pygments_lexer": "ipython3",
   "version": "3.6.8"
  }
 },
 "nbformat": 4,
 "nbformat_minor": 2
}
